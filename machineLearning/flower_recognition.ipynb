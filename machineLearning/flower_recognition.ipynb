{
 "cells": [
  {
   "cell_type": "code",
   "execution_count": 436,
   "metadata": {},
   "outputs": [],
   "source": [
    "import numpy as np\n",
    "import tensorflow as tf\n",
    "from keras.preprocessing.image import ImageDataGenerator"
   ]
  },
  {
   "cell_type": "code",
   "execution_count": 437,
   "metadata": {},
   "outputs": [
    {
     "data": {
      "text/plain": [
       "'2.5.0'"
      ]
     },
     "execution_count": 437,
     "metadata": {},
     "output_type": "execute_result"
    }
   ],
   "source": [
    "tf.__version__"
   ]
  },
  {
   "cell_type": "code",
   "execution_count": 438,
   "metadata": {},
   "outputs": [
    {
     "name": "stdout",
     "output_type": "stream",
     "text": [
      "Found 3155 images belonging to 5 classes.\n"
     ]
    }
   ],
   "source": [
    "train_datagen = ImageDataGenerator(\n",
    "        rescale=1./255,\n",
    "        shear_range=0.2,\n",
    "        zoom_range=0.2,\n",
    "        horizontal_flip=True)\n",
    "training_set = train_datagen.flow_from_directory(\n",
    "        'training_set',\n",
    "        target_size=(64, 64),\n",
    "        batch_size=32,\n",
    "        class_mode='categorical')"
   ]
  },
  {
   "cell_type": "code",
   "execution_count": 439,
   "metadata": {},
   "outputs": [
    {
     "name": "stdout",
     "output_type": "stream",
     "text": [
      "Found 1162 images belonging to 5 classes.\n"
     ]
    }
   ],
   "source": [
    "test_datagen = ImageDataGenerator(rescale=1./255)\n",
    "test_set = test_datagen.flow_from_directory(\n",
    "        'test_set',\n",
    "        target_size=(64, 64),\n",
    "        batch_size=32,\n",
    "        class_mode='categorical')"
   ]
  },
  {
   "cell_type": "code",
   "execution_count": 440,
   "metadata": {},
   "outputs": [],
   "source": [
    "cnn = tf.keras.models.Sequential()"
   ]
  },
  {
   "cell_type": "code",
   "execution_count": 441,
   "metadata": {},
   "outputs": [],
   "source": [
    "cnn.add(tf.keras.layers.Conv2D(filters=64 , kernel_size=3 , activation='relu' , input_shape=[64,64,3]))\n",
    "cnn.add(tf.keras.layers.MaxPool2D(pool_size=2,strides=2))"
   ]
  },
  {
   "cell_type": "code",
   "execution_count": 442,
   "metadata": {},
   "outputs": [],
   "source": [
    "cnn.add(tf.keras.layers.Conv2D(filters=64 , kernel_size=3 , activation='relu' ))\n",
    "cnn.add(tf.keras.layers.MaxPool2D(pool_size=2 , strides=2))"
   ]
  },
  {
   "cell_type": "code",
   "execution_count": 443,
   "metadata": {},
   "outputs": [],
   "source": [
    "cnn.add(tf.keras.layers.Dropout(0.5))"
   ]
  },
  {
   "cell_type": "code",
   "execution_count": 444,
   "metadata": {},
   "outputs": [],
   "source": [
    "cnn.add(tf.keras.layers.Flatten())"
   ]
  },
  {
   "cell_type": "code",
   "execution_count": 445,
   "metadata": {},
   "outputs": [],
   "source": [
    "cnn.add(tf.keras.layers.Dense(units=128, activation='relu'))"
   ]
  },
  {
   "cell_type": "code",
   "execution_count": 446,
   "metadata": {},
   "outputs": [],
   "source": [
    "cnn.add(tf.keras.layers.Dense(units=5 , activation='softmax'))"
   ]
  },
  {
   "cell_type": "code",
   "execution_count": 447,
   "metadata": {},
   "outputs": [],
   "source": [
    "cnn.compile(optimizer = 'rmsprop' , loss = 'categorical_crossentropy' , metrics = ['accuracy'])"
   ]
  },
  {
   "cell_type": "code",
   "execution_count": 448,
   "metadata": {
    "scrolled": false
   },
   "outputs": [
    {
     "name": "stdout",
     "output_type": "stream",
     "text": [
      "Epoch 1/30\n",
      "99/99 [==============================] - 36s 359ms/step - loss: 1.3975 - accuracy: 0.4111 - val_loss: 1.1670 - val_accuracy: 0.5301\n",
      "Epoch 2/30\n",
      "99/99 [==============================] - 35s 353ms/step - loss: 1.1386 - accuracy: 0.5550 - val_loss: 0.9857 - val_accuracy: 0.6170\n",
      "Epoch 3/30\n",
      "99/99 [==============================] - 35s 351ms/step - loss: 1.0201 - accuracy: 0.6029 - val_loss: 0.9857 - val_accuracy: 0.6110\n",
      "Epoch 4/30\n",
      "99/99 [==============================] - 35s 352ms/step - loss: 0.9606 - accuracy: 0.6412 - val_loss: 1.0379 - val_accuracy: 0.6059\n",
      "Epoch 5/30\n",
      "99/99 [==============================] - 35s 351ms/step - loss: 0.8850 - accuracy: 0.6564 - val_loss: 0.9378 - val_accuracy: 0.6351\n",
      "Epoch 6/30\n",
      "99/99 [==============================] - 35s 357ms/step - loss: 0.8297 - accuracy: 0.6922 - val_loss: 0.8273 - val_accuracy: 0.6773\n",
      "Epoch 7/30\n",
      "99/99 [==============================] - 35s 351ms/step - loss: 0.8006 - accuracy: 0.6872 - val_loss: 0.9772 - val_accuracy: 0.6386\n",
      "Epoch 8/30\n",
      "99/99 [==============================] - 35s 355ms/step - loss: 0.7666 - accuracy: 0.7132 - val_loss: 1.0767 - val_accuracy: 0.6179\n",
      "Epoch 9/30\n",
      "99/99 [==============================] - 35s 352ms/step - loss: 0.7536 - accuracy: 0.7128 - val_loss: 0.9531 - val_accuracy: 0.6360\n",
      "Epoch 10/30\n",
      "99/99 [==============================] - 38s 385ms/step - loss: 0.6852 - accuracy: 0.7414 - val_loss: 0.8517 - val_accuracy: 0.6773\n",
      "Epoch 11/30\n",
      "99/99 [==============================] - 35s 349ms/step - loss: 0.7076 - accuracy: 0.7401 - val_loss: 0.7937 - val_accuracy: 0.7126\n",
      "Epoch 12/30\n",
      "99/99 [==============================] - 35s 351ms/step - loss: 0.6565 - accuracy: 0.7521 - val_loss: 1.0537 - val_accuracy: 0.6360\n",
      "Epoch 13/30\n",
      "99/99 [==============================] - 35s 349ms/step - loss: 0.6417 - accuracy: 0.7658 - val_loss: 0.9639 - val_accuracy: 0.6523\n",
      "Epoch 14/30\n",
      "99/99 [==============================] - 35s 352ms/step - loss: 0.6140 - accuracy: 0.7705 - val_loss: 0.8116 - val_accuracy: 0.7022\n",
      "Epoch 15/30\n",
      "99/99 [==============================] - 35s 349ms/step - loss: 0.6009 - accuracy: 0.7810 - val_loss: 0.8764 - val_accuracy: 0.7031\n",
      "Epoch 16/30\n",
      "99/99 [==============================] - 35s 354ms/step - loss: 0.5862 - accuracy: 0.7819 - val_loss: 0.8276 - val_accuracy: 0.7143\n",
      "Epoch 17/30\n",
      "99/99 [==============================] - 35s 351ms/step - loss: 0.5698 - accuracy: 0.7921 - val_loss: 0.8858 - val_accuracy: 0.6876\n",
      "Epoch 18/30\n",
      "99/99 [==============================] - 35s 352ms/step - loss: 0.5454 - accuracy: 0.8041 - val_loss: 0.9406 - val_accuracy: 0.6928\n",
      "Epoch 19/30\n",
      "99/99 [==============================] - 35s 351ms/step - loss: 0.5463 - accuracy: 0.7921 - val_loss: 0.8107 - val_accuracy: 0.7212\n",
      "Epoch 20/30\n",
      "99/99 [==============================] - 35s 352ms/step - loss: 0.5155 - accuracy: 0.8158 - val_loss: 0.8690 - val_accuracy: 0.7134\n",
      "Epoch 21/30\n",
      "99/99 [==============================] - 34s 348ms/step - loss: 0.4990 - accuracy: 0.8231 - val_loss: 0.8848 - val_accuracy: 0.7100\n",
      "Epoch 22/30\n",
      "99/99 [==============================] - 35s 349ms/step - loss: 0.4910 - accuracy: 0.8276 - val_loss: 1.0237 - val_accuracy: 0.6885\n",
      "Epoch 23/30\n",
      "99/99 [==============================] - 35s 353ms/step - loss: 0.4647 - accuracy: 0.8311 - val_loss: 1.2041 - val_accuracy: 0.6644\n",
      "Epoch 24/30\n",
      "99/99 [==============================] - 35s 352ms/step - loss: 0.4675 - accuracy: 0.8314 - val_loss: 1.3878 - val_accuracy: 0.5955\n",
      "Epoch 25/30\n",
      "99/99 [==============================] - 35s 352ms/step - loss: 0.4591 - accuracy: 0.8336 - val_loss: 0.8995 - val_accuracy: 0.7126\n",
      "Epoch 26/30\n",
      "99/99 [==============================] - 35s 353ms/step - loss: 0.4403 - accuracy: 0.8485 - val_loss: 0.8973 - val_accuracy: 0.7126\n",
      "Epoch 27/30\n",
      "99/99 [==============================] - 35s 351ms/step - loss: 0.4238 - accuracy: 0.8447 - val_loss: 1.5098 - val_accuracy: 0.5947\n",
      "Epoch 28/30\n",
      "99/99 [==============================] - 35s 351ms/step - loss: 0.4023 - accuracy: 0.8586 - val_loss: 1.0196 - val_accuracy: 0.6962\n",
      "Epoch 29/30\n",
      "99/99 [==============================] - 35s 351ms/step - loss: 0.4026 - accuracy: 0.8507 - val_loss: 1.0274 - val_accuracy: 0.7117\n",
      "Epoch 30/30\n",
      "99/99 [==============================] - 35s 351ms/step - loss: 0.3989 - accuracy: 0.8564 - val_loss: 1.0510 - val_accuracy: 0.7005\n"
     ]
    },
    {
     "data": {
      "text/plain": [
       "<tensorflow.python.keras.callbacks.History at 0x25d03004130>"
      ]
     },
     "execution_count": 448,
     "metadata": {},
     "output_type": "execute_result"
    }
   ],
   "source": [
    "cnn.fit(x = training_set , validation_data = test_set , epochs = 30)"
   ]
  },
  {
   "cell_type": "code",
   "execution_count": 449,
   "metadata": {},
   "outputs": [
    {
     "data": {
      "text/plain": [
       "{'daisy': 0, 'dandelion': 1, 'rose': 2, 'sunflower': 3, 'tulip': 4}"
      ]
     },
     "execution_count": 449,
     "metadata": {},
     "output_type": "execute_result"
    }
   ],
   "source": [
    "from keras.preprocessing import image\n",
    "test_image = image.load_img('Prediction/daisy.jpg',target_size=(64,64))\n",
    "test_image = image.img_to_array(test_image)\n",
    "test_image = np.expand_dims(test_image,axis=0)\n",
    "result = cnn.predict(test_image)\n",
    "training_set.class_indices"
   ]
  },
  {
   "cell_type": "code",
   "execution_count": 450,
   "metadata": {},
   "outputs": [
    {
     "name": "stdout",
     "output_type": "stream",
     "text": [
      "Daisy\n"
     ]
    }
   ],
   "source": [
    "if result[0][0]==1:\n",
    "    print('Daisy')\n",
    "elif result[0][1]==1:\n",
    "    print('Dandelion')\n",
    "elif result[0][2]==1:\n",
    "    print('Rose')\n",
    "elif result[0][3]==1:\n",
    "    print('SunFlower')\n",
    "elif result[0][4]==1:\n",
    "    print(\"Tulip\")"
   ]
  },
  {
   "cell_type": "code",
   "execution_count": 451,
   "metadata": {},
   "outputs": [
    {
     "name": "stdout",
     "output_type": "stream",
     "text": [
      "[[1. 0. 0. 0. 0.]]\n"
     ]
    }
   ],
   "source": [
    "print(result)"
   ]
  },
  {
   "cell_type": "code",
   "execution_count": null,
   "metadata": {},
   "outputs": [],
   "source": []
  }
 ],
 "metadata": {
  "kernelspec": {
   "display_name": "Python 3",
   "language": "python",
   "name": "python3"
  },
  "language_info": {
   "codemirror_mode": {
    "name": "ipython",
    "version": 3
   },
   "file_extension": ".py",
   "mimetype": "text/x-python",
   "name": "python",
   "nbconvert_exporter": "python",
   "pygments_lexer": "ipython3",
   "version": "3.8.5"
  }
 },
 "nbformat": 4,
 "nbformat_minor": 4
}
