{
 "cells": [
  {
   "cell_type": "code",
   "execution_count": 2,
   "metadata": {},
   "outputs": [],
   "source": [
    "# Importing Libraries"
   ]
  },
  {
   "cell_type": "code",
   "execution_count": 3,
   "metadata": {},
   "outputs": [],
   "source": [
    "from collections import Counter\n",
    "import bs4 as bs\n",
    "import datetime as dt\n",
    "import requests\n",
    "import pickle\n",
    "import pandas_datareader as web\n",
    "import os\n",
    "import yfinance as yf\n",
    "import pandas as pd\n",
    "import matplotlib.pyplot as plt\n",
    "from matplotlib import style\n",
    "import numpy as np"
   ]
  },
  {
   "cell_type": "code",
   "execution_count": 4,
   "metadata": {},
   "outputs": [],
   "source": [
    "yf.pdr_override()"
   ]
  },
  {
   "cell_type": "code",
   "execution_count": 5,
   "metadata": {},
   "outputs": [],
   "source": [
    "# Making list of ticker"
   ]
  },
  {
   "cell_type": "code",
   "execution_count": 6,
   "metadata": {},
   "outputs": [],
   "source": [
    "def save_sp500_tickers():\n",
    "    resp=requests.get('https://en.wikipedia.org/wiki/List_of_S%26P_500_companies')\n",
    "    soup=bs.BeautifulSoup(resp.text,\"lxml\")\n",
    "    table=soup.find('table',{'class':'wikitable sortable'})\n",
    "    tickers=[]\n",
    "    for row in table.findAll('tr')[1:]:\n",
    "        ticker = row.findAll('td')[0].text.replace('.', '-')\n",
    "        ticker = ticker[:-1]\n",
    "        tickers.append(ticker)\n",
    "    with open(\"sp500tickers.pickle\",\"wb\") as f:\n",
    "        pickle.dump(tickers,f)\n",
    "    return tickers"
   ]
  },
  {
   "cell_type": "code",
   "execution_count": 7,
   "metadata": {},
   "outputs": [],
   "source": [
    "#save_sp500_tickers()"
   ]
  },
  {
   "cell_type": "code",
   "execution_count": 8,
   "metadata": {},
   "outputs": [],
   "source": [
    "def get_data_from_yahoo(reload_sp500=False):\n",
    "    if reload_sp500:\n",
    "        tickers=save_sp500_tickers()\n",
    "    else:\n",
    "        with open(\"sp500tickers.pickle\",\"rb\") as f:\n",
    "            tickers=pickle.load(f)\n",
    "    if not os.path.exists(\"stock_dfs\"):\n",
    "        os.makedirs(\"stock_dfs\")\n",
    "    print(tickers)\n",
    "    start=dt.datetime(2010,1,1)\n",
    "    end=dt.datetime.now()\n",
    "    for ticker in tickers:\n",
    "        try:\n",
    "            if not os.path.exists(\"stock_dfs/{}.csv\".format(ticker)):\n",
    "                df=web.DataReader(ticker,\"yahoo\",start,end)\n",
    "                df.to_csv(\"stock_dfs/{}.csv\".format(ticker))\n",
    "        except:\n",
    "            pass\n",
    "        else:\n",
    "            print(\"Already have {}\".format(ticker))"
   ]
  },
  {
   "cell_type": "code",
   "execution_count": 9,
   "metadata": {},
   "outputs": [],
   "source": [
    "# get_data_from_yahoo()"
   ]
  },
  {
   "cell_type": "code",
   "execution_count": 10,
   "metadata": {
    "scrolled": false
   },
   "outputs": [],
   "source": [
    "def compile_data():\n",
    "    with open('sp500tickers.pickle',\"rb\") as f:\n",
    "        tickers=pickle.load(f)\n",
    "    main_df=pd.DataFrame()\n",
    "    for count,ticker in enumerate(tickers):\n",
    "        try:\n",
    "            df=pd.read_csv('stock_dfs/{}.csv'.format(ticker))\n",
    "            df.set_index('Date',inplace=True)\n",
    "            df.rename(columns={'Adj Close':ticker},inplace=True)\n",
    "            df.drop(['Open',\"High\",\"Low\",\"Close\",\"Volume\"],1,inplace=True)\n",
    "            if main_df.empty:\n",
    "                main_df=df\n",
    "            else:\n",
    "                main_df=main_df.join(df,how='outer')\n",
    "        except:\n",
    "            pass\n",
    "        if count%10==0:\n",
    "            print(count)\n",
    "    print(main_df.head())\n",
    "    main_df.to_csv('sp500_joined_closes.csv')"
   ]
  },
  {
   "cell_type": "code",
   "execution_count": 11,
   "metadata": {},
   "outputs": [],
   "source": [
    "#compile_data()"
   ]
  },
  {
   "cell_type": "code",
   "execution_count": 12,
   "metadata": {},
   "outputs": [],
   "source": [
    "style.use('ggplot')\n",
    "def visualize_data():\n",
    "    df=pd.read_csv('sp500_joined_closes.csv')\n",
    "    df_corr=df.corr()\n",
    "    df_corr.to_csv('sp500corr.csv')\n",
    "    data1=df_corr.values\n",
    "    # Making fig and axis\n",
    "    fig1=plt.figure()\n",
    "    axis1=fig1.add_subplot(111)\n",
    "    # Set Heatmap (Range of colors) Red to Green\n",
    "    heatmap1=axis1.pcolor(data1,cmap=plt.cm.RdYlGn)\n",
    "    fig1.colorbar(heatmap1)\n",
    "    # Settimng companies ticks\n",
    "    axis1.set_xticks(np.arange(data1.shape[1])+0.5,minor=False)\n",
    "    axis1.set_yticks(np.arange(data1.shape[0])+0.5,minor=False)\n",
    "    axis1.invert_yaxis()\n",
    "    axis1.xaxis.tick_top()\n",
    "    # Naming labels\n",
    "    column_labels=df_corr.columns\n",
    "    row_labels=df_corr.index\n",
    "    axis1.set_yticklabels(column_labels)\n",
    "    axis1.set_xticklabels(row_labels)\n",
    "    # Rotating for better visualization\n",
    "    plt.xticks(rotation=90)\n",
    "    heatmap1.set_clim(-1,1)\n",
    "    plt.tight_layout()\n",
    "    plt.show()"
   ]
  },
  {
   "cell_type": "code",
   "execution_count": 13,
   "metadata": {},
   "outputs": [],
   "source": [
    "#visualize_data()"
   ]
  },
  {
   "cell_type": "code",
   "execution_count": 14,
   "metadata": {},
   "outputs": [],
   "source": [
    "def process_data_for_labels(ticker):\n",
    "    hm_days=7\n",
    "    df=pd.read_csv('sp500_joined_closes.csv',index_col=0)\n",
    "    tickers=df.columns.values.tolist()\n",
    "    df.fillna(0,inplace=True)\n",
    "    for i in range(1,hm_days+1):\n",
    "        df['{}_{}d'.format(ticker,i)]=(df[ticker].shift(-i)-df[ticker])/df[ticker]\n",
    "    df.fillna(0,inplace=True)\n",
    "    return(tickers,df)"
   ]
  },
  {
   "cell_type": "code",
   "execution_count": 15,
   "metadata": {},
   "outputs": [],
   "source": [
    "def buy_sell_hold(*args):\n",
    "    cols=[c for c in args]\n",
    "    requirement=0.02\n",
    "    for col in cols:\n",
    "        if col > requirement:\n",
    "            return 1\n",
    "        if col < -requirement:\n",
    "            return -1\n",
    "    return 0"
   ]
  },
  {
   "cell_type": "code",
   "execution_count": 25,
   "metadata": {},
   "outputs": [],
   "source": [
    "def extract_featuresets(ticker):\n",
    "    tickers,df=process_data_for_labels(ticker)\n",
    "    df['{}_target'.format(ticker)]=list(map(buy_sell_hold,\n",
    "                                            df['{}_1d'.format(ticker)],\n",
    "                                           df['{}_2d'.format(ticker)],\n",
    "                                           df['{}_3d'.format(ticker)],\n",
    "                                           df['{}_4d'.format(ticker)],\n",
    "                                           df['{}_5d'.format(ticker)],\n",
    "                                           df['{}_6d'.format(ticker)],\n",
    "                                           df['{}_7d'.format(ticker)]))\n",
    "    vals=df['{}_target'.format(ticker)].values.tolist()\n",
    "    str_vals=[str(i) for i in vals]\n",
    "    print(\"Data Spread:\",Counter(str_vals))\n",
    "    # Cleaning\n",
    "    df.fillna(0,inplace=True)\n",
    "    df=df.replace([np.inf,-np.inf],np.nan)\n",
    "    df.dropna(inplace=True)\n",
    "    # Converting stock price into percent change\n",
    "    df_vals=df[[ticker for ticker in tickers]].pct_change()\n",
    "    df_vals=df_vals.replace([np.inf,-np.inf],0)\n",
    "    df_vals.fillna(0,inplace=True)\n",
    "    X=df_vals.values\n",
    "    y=df['{}_target'.format(ticker)].values\n",
    "    return(X,y,df)"
   ]
  },
  {
   "cell_type": "code",
   "execution_count": 31,
   "metadata": {},
   "outputs": [],
   "source": [
    "#extract_featuresets('XOM')"
   ]
  },
  {
   "cell_type": "code",
   "execution_count": 32,
   "metadata": {},
   "outputs": [],
   "source": [
    "from sklearn import model_selection,svm,neighbors\n",
    "from sklearn.ensemble import VotingClassifier,RandomForestClassifier\n",
    "def do_ml(ticker):\n",
    "    X,y,df=extract_featuresets(ticker)\n",
    "    X_train,X_test,Y_train,Y_test=model_selection.train_test_split(X,y,test_size=0.2,random_state=0)\n",
    "    clf=VotingClassifier([('lsvc',svm.LinearSVC()),\n",
    "                         ('knn',neighbors.KNeighborsClassifier()),\n",
    "                         ('rfor',RandomForestClassifier())])\n",
    "    clf.fit(X_train,Y_train)\n",
    "    confidence=clf.score(X_test,Y_test)\n",
    "    print('Accuracy:',confidence)\n",
    "    predictions=clf.predict(X_test)\n",
    "    print('Predicted Class Counts:',Counter(predictions))\n",
    "    return(confidence)"
   ]
  },
  {
   "cell_type": "code",
   "execution_count": 28,
   "metadata": {},
   "outputs": [
    {
     "name": "stdout",
     "output_type": "stream",
     "text": [
      "Data Spread: Counter({'1': 1179, '-1': 914, '0': 577})\n",
      "Accuracy: 0.45318352059925093\n",
      "Predicted Class Counts: Counter({1: 364, -1: 139, 0: 31})\n"
     ]
    },
    {
     "data": {
      "text/plain": [
       "0.45318352059925093"
      ]
     },
     "execution_count": 28,
     "metadata": {},
     "output_type": "execute_result"
    }
   ],
   "source": [
    "do_ml('AAPL')"
   ]
  },
  {
   "cell_type": "code",
   "execution_count": 29,
   "metadata": {},
   "outputs": [
    {
     "name": "stdout",
     "output_type": "stream",
     "text": [
      "Data Spread: Counter({'0': 1101, '1': 831, '-1': 738})\n",
      "Accuracy: 0.398876404494382\n",
      "Predicted Class Counts: Counter({0: 388, -1: 78, 1: 68})\n"
     ]
    },
    {
     "data": {
      "text/plain": [
       "0.398876404494382"
      ]
     },
     "execution_count": 29,
     "metadata": {},
     "output_type": "execute_result"
    }
   ],
   "source": [
    "do_ml('XOM')"
   ]
  },
  {
   "cell_type": "code",
   "execution_count": 30,
   "metadata": {},
   "outputs": [
    {
     "name": "stdout",
     "output_type": "stream",
     "text": [
      "Data Spread: Counter({'1': 990, '0': 970, '-1': 710})\n",
      "Accuracy: 0.40074906367041196\n",
      "Predicted Class Counts: Counter({0: 234, 1: 190, -1: 110})\n"
     ]
    },
    {
     "data": {
      "text/plain": [
       "0.40074906367041196"
      ]
     },
     "execution_count": 30,
     "metadata": {},
     "output_type": "execute_result"
    }
   ],
   "source": [
    "do_ml('ABT')"
   ]
  }
 ],
 "metadata": {
  "kernelspec": {
   "display_name": "Python 3",
   "language": "python",
   "name": "python3"
  },
  "language_info": {
   "codemirror_mode": {
    "name": "ipython",
    "version": 3
   },
   "file_extension": ".py",
   "mimetype": "text/x-python",
   "name": "python",
   "nbconvert_exporter": "python",
   "pygments_lexer": "ipython3",
   "version": "3.8.3"
  }
 },
 "nbformat": 4,
 "nbformat_minor": 4
}
