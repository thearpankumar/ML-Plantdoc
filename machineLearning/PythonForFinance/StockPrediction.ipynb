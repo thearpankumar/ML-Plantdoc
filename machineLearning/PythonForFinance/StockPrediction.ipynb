{
 "cells": [
  {
   "cell_type": "code",
   "execution_count": 1,
   "metadata": {},
   "outputs": [],
   "source": [
    "# Importing Libraries"
   ]
  },
  {
   "cell_type": "code",
   "execution_count": 2,
   "metadata": {},
   "outputs": [],
   "source": [
    "import pandas as pd\n",
    "import matplotlib.pyplot as plt\n",
    "from matplotlib import style\n",
    "import datetime as dt\n",
    "import pandas_datareader.data as web"
   ]
  },
  {
   "cell_type": "code",
   "execution_count": 3,
   "metadata": {},
   "outputs": [],
   "source": [
    "style.use('ggplot')\n",
    "start=dt.datetime(2015,1,1)\n",
    "end=dt.datetime.now()"
   ]
  },
  {
   "cell_type": "code",
   "execution_count": 25,
   "metadata": {},
   "outputs": [],
   "source": [
    "def get_stock_price(ticker):\n",
    "    df = web.DataReader(ticker,\"yahoo\",start,end)\n",
    "    df.reset_index(inplace=True)\n",
    "    #df.set_index(\"Date\",inplace=True)\n",
    "    return(df)"
   ]
  },
  {
   "cell_type": "code",
   "execution_count": 26,
   "metadata": {},
   "outputs": [
    {
     "data": {
      "text/html": [
       "<div>\n",
       "<style scoped>\n",
       "    .dataframe tbody tr th:only-of-type {\n",
       "        vertical-align: middle;\n",
       "    }\n",
       "\n",
       "    .dataframe tbody tr th {\n",
       "        vertical-align: top;\n",
       "    }\n",
       "\n",
       "    .dataframe thead th {\n",
       "        text-align: right;\n",
       "    }\n",
       "</style>\n",
       "<table border=\"1\" class=\"dataframe\">\n",
       "  <thead>\n",
       "    <tr style=\"text-align: right;\">\n",
       "      <th></th>\n",
       "      <th>Date</th>\n",
       "      <th>High</th>\n",
       "      <th>Low</th>\n",
       "      <th>Open</th>\n",
       "      <th>Close</th>\n",
       "      <th>Volume</th>\n",
       "      <th>Adj Close</th>\n",
       "    </tr>\n",
       "  </thead>\n",
       "  <tbody>\n",
       "    <tr>\n",
       "      <th>0</th>\n",
       "      <td>2014-12-31</td>\n",
       "      <td>45.136002</td>\n",
       "      <td>44.450001</td>\n",
       "      <td>44.618000</td>\n",
       "      <td>44.481998</td>\n",
       "      <td>11487500.0</td>\n",
       "      <td>44.481998</td>\n",
       "    </tr>\n",
       "    <tr>\n",
       "      <th>1</th>\n",
       "      <td>2015-01-02</td>\n",
       "      <td>44.650002</td>\n",
       "      <td>42.652000</td>\n",
       "      <td>44.574001</td>\n",
       "      <td>43.862000</td>\n",
       "      <td>23822000.0</td>\n",
       "      <td>43.862000</td>\n",
       "    </tr>\n",
       "    <tr>\n",
       "      <th>2</th>\n",
       "      <td>2015-01-05</td>\n",
       "      <td>43.299999</td>\n",
       "      <td>41.431999</td>\n",
       "      <td>42.910000</td>\n",
       "      <td>42.018002</td>\n",
       "      <td>26842500.0</td>\n",
       "      <td>42.018002</td>\n",
       "    </tr>\n",
       "    <tr>\n",
       "      <th>3</th>\n",
       "      <td>2015-01-06</td>\n",
       "      <td>42.840000</td>\n",
       "      <td>40.841999</td>\n",
       "      <td>42.012001</td>\n",
       "      <td>42.256001</td>\n",
       "      <td>31309500.0</td>\n",
       "      <td>42.256001</td>\n",
       "    </tr>\n",
       "    <tr>\n",
       "      <th>4</th>\n",
       "      <td>2015-01-07</td>\n",
       "      <td>42.956001</td>\n",
       "      <td>41.956001</td>\n",
       "      <td>42.669998</td>\n",
       "      <td>42.189999</td>\n",
       "      <td>14842000.0</td>\n",
       "      <td>42.189999</td>\n",
       "    </tr>\n",
       "    <tr>\n",
       "      <th>...</th>\n",
       "      <td>...</td>\n",
       "      <td>...</td>\n",
       "      <td>...</td>\n",
       "      <td>...</td>\n",
       "      <td>...</td>\n",
       "      <td>...</td>\n",
       "      <td>...</td>\n",
       "    </tr>\n",
       "    <tr>\n",
       "      <th>1470</th>\n",
       "      <td>2020-11-02</td>\n",
       "      <td>406.980011</td>\n",
       "      <td>392.299988</td>\n",
       "      <td>394.000000</td>\n",
       "      <td>400.510010</td>\n",
       "      <td>29021100.0</td>\n",
       "      <td>400.510010</td>\n",
       "    </tr>\n",
       "    <tr>\n",
       "      <th>1471</th>\n",
       "      <td>2020-11-03</td>\n",
       "      <td>427.769989</td>\n",
       "      <td>406.690002</td>\n",
       "      <td>409.730011</td>\n",
       "      <td>423.899994</td>\n",
       "      <td>34351700.0</td>\n",
       "      <td>423.899994</td>\n",
       "    </tr>\n",
       "    <tr>\n",
       "      <th>1472</th>\n",
       "      <td>2020-11-04</td>\n",
       "      <td>435.399994</td>\n",
       "      <td>417.100006</td>\n",
       "      <td>430.619995</td>\n",
       "      <td>420.980011</td>\n",
       "      <td>32143100.0</td>\n",
       "      <td>420.980011</td>\n",
       "    </tr>\n",
       "    <tr>\n",
       "      <th>1473</th>\n",
       "      <td>2020-11-05</td>\n",
       "      <td>440.000000</td>\n",
       "      <td>424.000000</td>\n",
       "      <td>428.299988</td>\n",
       "      <td>438.089996</td>\n",
       "      <td>28414500.0</td>\n",
       "      <td>438.089996</td>\n",
       "    </tr>\n",
       "    <tr>\n",
       "      <th>1474</th>\n",
       "      <td>2020-11-06</td>\n",
       "      <td>436.570007</td>\n",
       "      <td>424.279999</td>\n",
       "      <td>436.100006</td>\n",
       "      <td>429.950012</td>\n",
       "      <td>21653600.0</td>\n",
       "      <td>429.950012</td>\n",
       "    </tr>\n",
       "  </tbody>\n",
       "</table>\n",
       "<p>1475 rows × 7 columns</p>\n",
       "</div>"
      ],
      "text/plain": [
       "           Date        High         Low        Open       Close      Volume  \\\n",
       "0    2014-12-31   45.136002   44.450001   44.618000   44.481998  11487500.0   \n",
       "1    2015-01-02   44.650002   42.652000   44.574001   43.862000  23822000.0   \n",
       "2    2015-01-05   43.299999   41.431999   42.910000   42.018002  26842500.0   \n",
       "3    2015-01-06   42.840000   40.841999   42.012001   42.256001  31309500.0   \n",
       "4    2015-01-07   42.956001   41.956001   42.669998   42.189999  14842000.0   \n",
       "...         ...         ...         ...         ...         ...         ...   \n",
       "1470 2020-11-02  406.980011  392.299988  394.000000  400.510010  29021100.0   \n",
       "1471 2020-11-03  427.769989  406.690002  409.730011  423.899994  34351700.0   \n",
       "1472 2020-11-04  435.399994  417.100006  430.619995  420.980011  32143100.0   \n",
       "1473 2020-11-05  440.000000  424.000000  428.299988  438.089996  28414500.0   \n",
       "1474 2020-11-06  436.570007  424.279999  436.100006  429.950012  21653600.0   \n",
       "\n",
       "       Adj Close  \n",
       "0      44.481998  \n",
       "1      43.862000  \n",
       "2      42.018002  \n",
       "3      42.256001  \n",
       "4      42.189999  \n",
       "...          ...  \n",
       "1470  400.510010  \n",
       "1471  423.899994  \n",
       "1472  420.980011  \n",
       "1473  438.089996  \n",
       "1474  429.950012  \n",
       "\n",
       "[1475 rows x 7 columns]"
      ]
     },
     "execution_count": 26,
     "metadata": {},
     "output_type": "execute_result"
    }
   ],
   "source": [
    "get_stock_price('TSLA')"
   ]
  },
  {
   "cell_type": "code",
   "execution_count": 71,
   "metadata": {},
   "outputs": [],
   "source": [
    "def get_moving_avg():\n",
    "    df = get_stock_price('KO')\n",
    "    df['20 ma'] = df['Adj Close'].rolling(window=20,min_periods=0).mean()\n",
    "    ax1=plt.subplot2grid((6,1),(0,0),rowspan=5,colspan=1)\n",
    "    ax2=plt.subplot2grid((6,1),(5,0),rowspan=1,colspan=1,sharex=ax1)\n",
    "    ax1.plot(df['Date'],df['Adj Close'],color='yellow')\n",
    "    ax1.plot(df['Date'],df['20 ma'],color='cyan')\n",
    "    ax2.bar(df['Date'],df['Volume'],color='blue')\n",
    "    C = df['Adj Close'].tolist()\n",
    "    D = df['20 ma'].tolist()\n",
    "    E = df['Date'].tolist()\n",
    "    for i in range(len(C)):\n",
    "        if (C[i]>D[i]):\n",
    "            ax1.scatter(E[i],C[i],label='Buy',color='green')\n",
    "        elif (C[i]<D[i]):\n",
    "            ax1.scatter(E[i],C[i],label='Sell',color='red') \n",
    "    ax1.legend('Buy')\n",
    "    ax1.legend('Sell')\n",
    "    plt.show()"
   ]
  },
  {
   "cell_type": "code",
   "execution_count": 72,
   "metadata": {
    "scrolled": false
   },
   "outputs": [
    {
     "data": {
      "image/png": "[encoded data removed]",
      "text/plain": [
       "<Figure size 432x288 with 2 Axes>"
      ]
     },
     "metadata": {},
     "output_type": "display_data"
    }
   ],
   "source": [
    "get_moving_avg()"
   ]
  },
  {
   "cell_type": "code",
   "execution_count": null,
   "metadata": {},
   "outputs": [],
   "source": []
  },
  {
   "cell_type": "code",
   "execution_count": null,
   "metadata": {},
   "outputs": [],
   "source": []
  }
 ],
 "metadata": {
  "kernelspec": {
   "display_name": "Python 3",
   "language": "python",
   "name": "python3"
  },
  "language_info": {
   "codemirror_mode": {
    "name": "ipython",
    "version": 3
   },
   "file_extension": ".py",
   "mimetype": "text/x-python",
   "name": "python",
   "nbconvert_exporter": "python",
   "pygments_lexer": "ipython3",
   "version": "3.8.3"
  }
 },
 "nbformat": 4,
 "nbformat_minor": 4
}
