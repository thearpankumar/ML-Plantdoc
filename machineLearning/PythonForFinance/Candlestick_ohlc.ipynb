{
 "cells": [
  {
   "cell_type": "code",
   "execution_count": 10,
   "metadata": {},
   "outputs": [],
   "source": [
    "import pandas as pd\n",
    "import matplotlib.pyplot as plt\n",
    "from matplotlib import style\n",
    "import pandas_datareader.data as web\n",
    "from mpl_finance import candlestick_ohlc\n",
    "import matplotlib.dates as mdates"
   ]
  },
  {
   "cell_type": "code",
   "execution_count": 11,
   "metadata": {},
   "outputs": [],
   "source": [
    "style.use('ggplot')\n",
    "df=pd.read_csv('TSLA.csv',parse_dates=True,index_col=0)"
   ]
  },
  {
   "cell_type": "code",
   "execution_count": 12,
   "metadata": {},
   "outputs": [],
   "source": [
    "df_ohlc=df['Adj Close'].resample('10D').ohlc()\n",
    "df_volume=df['Volume'].resample('10D').sum()"
   ]
  },
  {
   "cell_type": "code",
   "execution_count": 13,
   "metadata": {},
   "outputs": [
    {
     "name": "stdout",
     "output_type": "stream",
     "text": [
      "                 open       high        low      close\n",
      "Date                                                  \n",
      "2014-12-31  44.481998  44.481998  41.332001  41.332001\n",
      "2015-01-10  40.442001  40.849998  38.374001  38.613998\n",
      "2015-01-20  38.386002  41.310001  38.386002  41.040001\n",
      "2015-01-30  40.720001  44.198002  40.720001  43.472000\n",
      "2015-02-09  43.495998  43.495998  40.576000  40.891998\n"
     ]
    }
   ],
   "source": [
    "print(df_ohlc.head())"
   ]
  },
  {
   "cell_type": "code",
   "execution_count": 19,
   "metadata": {},
   "outputs": [
    {
     "name": "stdout",
     "output_type": "stream",
     "text": [
      "Date\n",
      "2014-12-31    148857500.0\n",
      "2015-01-10    153996000.0\n",
      "2015-01-20    144624500.0\n",
      "2015-01-30    110273000.0\n",
      "2015-02-09    235829000.0\n",
      "                 ...     \n",
      "2020-08-31    697519400.0\n",
      "2020-09-10    561432200.0\n",
      "2020-09-20    547840300.0\n",
      "2020-09-30    376660700.0\n",
      "2020-10-10    189592600.0\n",
      "Freq: 10D, Name: Volume, Length: 212, dtype: float64\n"
     ]
    }
   ],
   "source": [
    "print(df_volume)"
   ]
  },
  {
   "cell_type": "code",
   "execution_count": 14,
   "metadata": {},
   "outputs": [],
   "source": [
    "df_ohlc.reset_index(inplace=True)\n",
    "df_ohlc['Date']=df_ohlc['Date'].map(mdates.date2num)"
   ]
  },
  {
   "cell_type": "code",
   "execution_count": 15,
   "metadata": {},
   "outputs": [
    {
     "name": "stdout",
     "output_type": "stream",
     "text": [
      "       Date       open       high        low      close\n",
      "0  735598.0  44.481998  44.481998  41.332001  41.332001\n",
      "1  735608.0  40.442001  40.849998  38.374001  38.613998\n",
      "2  735618.0  38.386002  41.310001  38.386002  41.040001\n",
      "3  735628.0  40.720001  44.198002  40.720001  43.472000\n",
      "4  735638.0  43.495998  43.495998  40.576000  40.891998\n"
     ]
    }
   ],
   "source": [
    "print(df_ohlc.head())"
   ]
  },
  {
   "cell_type": "code",
   "execution_count": 17,
   "metadata": {},
   "outputs": [
    {
     "data": {
      "image/png": "[encoded data removed]",
      "text/plain": [
       "<Figure size 432x288 with 2 Axes>"
      ]
     },
     "metadata": {},
     "output_type": "display_data"
    }
   ],
   "source": [
    "ax1=plt.subplot2grid((6,1),(0,0),rowspan=5,colspan=1)\n",
    "ax2=plt.subplot2grid((6,1),(5,0),rowspan=1,colspan=1,sharex=ax1)\n",
    "ax1.xaxis_date()\n",
    "candlestick_ohlc(ax1,df_ohlc.values,colorup='g')\n",
    "ax2.fill_between(df['Volume'].index.map(mdates.date2num),df['Volume'].values,0)\n",
    "plt.show()"
   ]
  },
  {
   "cell_type": "code",
   "execution_count": null,
   "metadata": {},
   "outputs": [],
   "source": []
  }
 ],
 "metadata": {
  "kernelspec": {
   "display_name": "Python 3",
   "language": "python",
   "name": "python3"
  },
  "language_info": {
   "codemirror_mode": {
    "name": "ipython",
    "version": 3
   },
   "file_extension": ".py",
   "mimetype": "text/x-python",
   "name": "python",
   "nbconvert_exporter": "python",
   "pygments_lexer": "ipython3",
   "version": "3.8.3"
  }
 },
 "nbformat": 4,
 "nbformat_minor": 4
}
