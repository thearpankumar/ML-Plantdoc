{
 "cells": [
  {
   "cell_type": "markdown",
   "metadata": {
    "id": "DRpC2S46pTmH"
   },
   "source": [
    "# Importing Libraries"
   ]
  },
  {
   "cell_type": "code",
   "execution_count": 1,
   "metadata": {
    "id": "LHwWozAkpTmN"
   },
   "outputs": [],
   "source": [
    "import numpy as np\n",
    "import pandas as pd"
   ]
  },
  {
   "cell_type": "markdown",
   "metadata": {
    "id": "rV7hmBeZpV10"
   },
   "source": [
    "##Personal Information"
   ]
  },
  {
   "cell_type": "code",
   "execution_count": 2,
   "metadata": {
    "colab": {
     "base_uri": "https://localhost:8080/"
    },
    "id": "ZTSRN4RipWBR",
    "outputId": "c406df16-5ae0-4d4a-e152-ea5b89ad8b27"
   },
   "outputs": [
    {
     "name": "stdout",
     "output_type": "stream",
     "text": [
      "Enter your Name: animesh\n",
      "Enter your School Name: sacs\n",
      "Enter the course you are Enrolled in: btech\n"
     ]
    }
   ],
   "source": [
    "name = input(\"Enter your Name: \")\n",
    "school = input(\"Enter your School Name: \")\n",
    "course = input(\"Enter the course you are Enrolled in: \")\n",
    "personal = [name,school,course]"
   ]
  },
  {
   "cell_type": "markdown",
   "metadata": {
    "id": "TVO1cDnvpTmS"
   },
   "source": [
    "## Percent to Grade Converter"
   ]
  },
  {
   "cell_type": "code",
   "execution_count": 3,
   "metadata": {
    "id": "i5P5CqMwpTmU"
   },
   "outputs": [],
   "source": [
    "def pertograde(grade):\n",
    "    if(grade<=100 and grade>=97):\n",
    "        G = 'A+'\n",
    "        GPA = 4.3\n",
    "    elif(grade>=93 and grade<=96):\n",
    "        G = 'A'\n",
    "        GPA = 4.\n",
    "    elif(grade>=90 and grade<=92):\n",
    "        G = 'A-'\n",
    "        GPA = 3.7\n",
    "    elif(grade>=87 and grade<=89):\n",
    "        G = 'B+'\n",
    "        GPA = 3.3\n",
    "    elif(grade>=83 and grade<=86):\n",
    "        G = 'B'\n",
    "        GPA = 3.\n",
    "    elif(grade>=80 and grade<=82):\n",
    "        G = 'B-'\n",
    "        GPA = 2.7\n",
    "    elif(grade>=77 and grade<=79):\n",
    "        G = 'C+'\n",
    "        GPA = 2.3\n",
    "    elif(grade>=73 and grade<=76):\n",
    "        G = 'C'\n",
    "        GPA = 2.\n",
    "    elif(grade>=70 and grade<=72):\n",
    "        G = 'C-'\n",
    "        GPA = 1.7\n",
    "    elif(grade>=67 and grade<=69):\n",
    "        G = 'D+'\n",
    "        GPA = 1.\n",
    "    elif(grade>=63 and grade<=66):\n",
    "        G = 'D'\n",
    "        GPA = 1.\n",
    "    elif(grade>=60 and grade<=62):\n",
    "        G = 'D-'\n",
    "        GPA = 0.7\n",
    "    elif(grade>=0 and grade<=59):\n",
    "        G = 'F'\n",
    "        GPA = 0\n",
    "    return(G,GPA)\n"
   ]
  },
  {
   "cell_type": "markdown",
   "metadata": {
    "id": "V1UejDBapTmY"
   },
   "source": [
    "# LETS BEGIN"
   ]
  },
  {
   "cell_type": "markdown",
   "metadata": {
    "id": "iu4itsdepTmc"
   },
   "source": [
    "## Assignment Details"
   ]
  },
  {
   "cell_type": "code",
   "execution_count": 4,
   "metadata": {
    "colab": {
     "base_uri": "https://localhost:8080/"
    },
    "id": "Z9-6cmwMpTme",
    "outputId": "936ee900-f45d-4f56-dc08-dad17d4d2116"
   },
   "outputs": [
    {
     "name": "stdout",
     "output_type": "stream",
     "text": [
      "Enter the number of Assignment: 4\n",
      "Enter Name of Each Assignment:\n",
      "1. h\n",
      "2. b\n",
      "3. c\n",
      "4. d\n"
     ]
    }
   ],
   "source": [
    "assignment = []\n",
    "n = int(input(\"Enter the number of Assignment: \"))\n",
    "print(\"Enter Name of Each Assignment:\")\n",
    "for i in range(n):\n",
    "    i = input('{}. '.format(i+1))\n",
    "    assignment.append(i)\n",
    "\n",
    "Assignment = np.array(assignment).reshape(-1,1)\n",
    "#print(assignment)"
   ]
  },
  {
   "cell_type": "markdown",
   "metadata": {
    "id": "Mk6IMQOTpTmk"
   },
   "source": [
    "## Grade Details"
   ]
  },
  {
   "cell_type": "code",
   "execution_count": 5,
   "metadata": {
    "colab": {
     "base_uri": "https://localhost:8080/"
    },
    "id": "5t7QAFI5pTml",
    "outputId": "7f7c4194-2870-4f24-e860-15dade274994"
   },
   "outputs": [
    {
     "name": "stdout",
     "output_type": "stream",
     "text": [
      "Enter Grade of Each assignment (If Assignment not done type: 'nan') :\n",
      "1. 10\n",
      "2. 20\n",
      "3. nan\n",
      "4. A\n"
     ]
    }
   ],
   "source": [
    "print(\"Enter Grade of Each assignment (If Assignment not done type: 'nan') :\")\n",
    "grade = []\n",
    "for i in range(n):\n",
    "    i = input('{}. '.format(i+1))\n",
    "    grade.append(i)\n",
    "\n",
    "Grade = np.array(grade).reshape(-1,1)\n",
    "#print(grade)"
   ]
  },
  {
   "cell_type": "markdown",
   "metadata": {
    "id": "27MDEpyMpTmn"
   },
   "source": [
    "## Weightage/Credit of Assignment Details"
   ]
  },
  {
   "cell_type": "code",
   "execution_count": 6,
   "metadata": {
    "colab": {
     "base_uri": "https://localhost:8080/"
    },
    "id": "pfZUeezDpTmo",
    "outputId": "92082d13-73a9-4df2-a99f-1e6338aec44d"
   },
   "outputs": [
    {
     "name": "stdout",
     "output_type": "stream",
     "text": [
      "Enter Weightage of Each assignment:\n",
      "1. 10\n",
      "2. 10\n",
      "3. 10\n",
      "4. 50\n"
     ]
    }
   ],
   "source": [
    "print(\"Enter Weightage of Each assignment:\")\n",
    "weightage = []\n",
    "for i in range(n):\n",
    "    i = input('{}. '.format(i+1))\n",
    "    weightage.append(i)\n",
    "\n",
    "Weightage = np.array(weightage).reshape(-1,1)\n",
    "#print(weightage)"
   ]
  },
  {
   "cell_type": "markdown",
   "metadata": {
    "id": "uVp9WNNepTmq"
   },
   "source": [
    "## Framing Data"
   ]
  },
  {
   "cell_type": "code",
   "execution_count": 7,
   "metadata": {
    "colab": {
     "base_uri": "https://localhost:8080/"
    },
    "id": "thmeV1NF08qx",
    "outputId": "d5a55256-9420-48d2-d1b2-9f0f61668341"
   },
   "outputs": [
    {
     "name": "stdout",
     "output_type": "stream",
     "text": [
      "  Personal Detail Assignment Grade Weightage\n",
      "0         animesh          h    10        10\n",
      "1            sacs          b    20        10\n",
      "2           btech          c   nan        10\n",
      "3                          d     A        50\n"
     ]
    }
   ],
   "source": [
    "lp,la,lb,lc = len(personal),len(assignment),len(grade),len(weightage)\n",
    "# now find the max\n",
    "max_len = max(lp,la,lb,lc)\n",
    "if not max_len == lp:\n",
    "  personal.extend(['']*(max_len-lp))\n",
    "if not max_len == la:\n",
    "  assignment.extend(['']*(max_len-la))\n",
    "if not max_len == lb:\n",
    "  grade.extend(['']*(max_len-lb))\n",
    "if not max_len == lc:\n",
    "  weightage.extend(['']*(max_len-lc))\n",
    "\n",
    "report = pd.DataFrame({'Personal Detail':personal,'Assignment':assignment,'Grade':grade,'Weightage':weightage}) \n",
    "print(report)"
   ]
  },
  {
   "cell_type": "markdown",
   "metadata": {
    "id": "G-e5IdjbpTms"
   },
   "source": [
    "## Calculating AVG"
   ]
  },
  {
   "cell_type": "code",
   "execution_count": 8,
   "metadata": {
    "colab": {
     "base_uri": "https://localhost:8080/"
    },
    "id": "-bZIccpwpTmt",
    "outputId": "b9d676f7-dd68-4a6b-e735-244036178d54"
   },
   "outputs": [
    {
     "name": "stdout",
     "output_type": "stream",
     "text": [
      "Average Grade: 42% (F) GPA: 0\n"
     ]
    }
   ],
   "source": [
    "eGrade = []\n",
    "gGrade = []\n",
    "for i in range(len(grade)):\n",
    "    if grade[i]=='nan':\n",
    "        eGrade.append(i)\n",
    "    elif grade[i]=='A+':\n",
    "        gGrade.append((97+100)/2)\n",
    "    elif grade[i]=='A':\n",
    "        gGrade.append((93+96)/2)\n",
    "    elif grade[i]=='A-':\n",
    "        gGrade.append((90+92)/2)\n",
    "    elif grade[i]=='B+':\n",
    "        gGrade.append((87+89)/2)\n",
    "    elif grade[i]=='B':\n",
    "        gGrade.append((83+86)/2)\n",
    "    elif grade[i]=='B-':\n",
    "        gGrade.append((80+82)/2)\n",
    "    elif grade[i]=='C+':\n",
    "        gGrade.append((77+79)/2)\n",
    "    elif grade[i]=='C':\n",
    "        gGrade.append((73+76)/2)\n",
    "    elif grade[i]=='C-':\n",
    "        gGrade.append((70+72)/2)\n",
    "    elif grade[i]=='D+':\n",
    "        gGrade.append((67+69)/2)\n",
    "    elif grade[i]=='D':\n",
    "        gGrade.append((63+66)/2)\n",
    "    elif grade[i]=='D-':\n",
    "        gGrade.append((60+62)/2)\n",
    "    elif grade[i]=='F':\n",
    "        gGrade.append(59)\n",
    "    else:\n",
    "        gGrade.append(float(grade[i]))\n",
    "\n",
    "Currentavg = round(sum(gGrade)/len(gGrade))\n",
    "(CurrentG,CurrentGPA) = pertograde(Currentavg)\n",
    "print(\"Average Grade: {}% ({}) GPA: {}\".format(Currentavg,CurrentG,CurrentGPA))"
   ]
  },
  {
   "cell_type": "code",
   "execution_count": 9,
   "metadata": {
    "colab": {
     "base_uri": "https://localhost:8080/"
    },
    "id": "DrsgTRMspTmv",
    "outputId": "86927720-be60-44a8-d9a8-4aff97013b53"
   },
   "outputs": [
    {
     "name": "stdout",
     "output_type": "stream",
     "text": [
      "Enter the Grade you need: 60\n",
      "Your Result is Too Low!! Not Possible To get That Grade..\n"
     ]
    }
   ],
   "source": [
    "eweight=0\n",
    "gweight=0\n",
    "for i in range(len(weightage)):\n",
    "    if i in eGrade:\n",
    "        eweight+=int(weightage[i])\n",
    "    else:\n",
    "        gweight+=int(weightage[i])\n",
    "\n",
    "Needavg = int(input(\"Enter the Grade you need: \"))\n",
    "\n",
    "if(eweight>0):\n",
    "    X = (Needavg*(eweight+gweight) - Currentavg*gweight)/eweight\n",
    "    X = round(X)\n",
    "else:\n",
    "    X = 0\n",
    "    print(\"You got {}% ({}) Grade with GPA: {} as Final.. \".format(Currentavg,CurrentG,CurrentGPA))\n",
    "if(X>100):\n",
    "    print(\"Your Result is Too Low!! Not Possible To get That Grade..\")\n",
    "elif(X==0):\n",
    "    print(\"You can't improve your Result...Your Current Grade will be the Final Grade..\")\n",
    "elif(X<=100):\n",
    "    neededG,neededGPA = pertograde(X)\n",
    "    print(\"You Need {}% ({}) Grade with GPA: {} in remaining Assignment..\".format(X,neededG,neededGPA))"
   ]
  },
  {
   "cell_type": "code",
   "execution_count": 10,
   "metadata": {
    "colab": {
     "base_uri": "https://localhost:8080/"
    },
    "id": "eqV_3G1gpTmx",
    "outputId": "112057bf-7fd1-4372-da7a-ecf6ce460b6b"
   },
   "outputs": [
    {
     "name": "stdout",
     "output_type": "stream",
     "text": [
      "Do you want to Save your Report if yes the type 'Yes': yes\n"
     ]
    }
   ],
   "source": [
    "choice = input(\"Do you want to Save your Report if yes the type 'Yes': \")\n",
    "if choice.lower()=='yes':\n",
    "  report.to_excel(\"Report.xlsx\")"
   ]
  },
  {
   "cell_type": "code",
   "execution_count": null,
   "metadata": {
    "id": "t3Tm5zCm33Cq"
   },
   "outputs": [],
   "source": []
  }
 ],
 "metadata": {
  "colab": {
   "name": "Project.ipynb",
   "provenance": []
  },
  "kernelspec": {
   "display_name": "Python 3",
   "language": "python",
   "name": "python3"
  },
  "language_info": {
   "codemirror_mode": {
    "name": "ipython",
    "version": 3
   },
   "file_extension": ".py",
   "mimetype": "text/x-python",
   "name": "python",
   "nbconvert_exporter": "python",
   "pygments_lexer": "ipython3",
   "version": "3.8.5"
  }
 },
 "nbformat": 4,
 "nbformat_minor": 1
}
